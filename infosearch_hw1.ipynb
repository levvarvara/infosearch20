{
  "nbformat": 4,
  "nbformat_minor": 0,
  "metadata": {
    "colab": {
      "name": "infosearch_hw1.ipynb",
      "provenance": [],
      "collapsed_sections": []
    },
    "kernelspec": {
      "name": "python3",
      "display_name": "Python 3"
    }
  },
  "cells": [
    {
      "cell_type": "code",
      "metadata": {
        "id": "JKu0tAZY0R9P",
        "colab_type": "code",
        "colab": {}
      },
      "source": [
        "import os\n",
        "\n",
        "working_dir = r\"/friends_data\""
      ],
      "execution_count": 74,
      "outputs": []
    },
    {
      "cell_type": "code",
      "metadata": {
        "id": "LLvs55R50i9T",
        "colab_type": "code",
        "colab": {
          "base_uri": "https://localhost:8080/",
          "height": 51
        },
        "outputId": "b590d282-10e9-4824-8f88-f68f2cfe2bfd"
      },
      "source": [
        "from nltk.tokenize import word_tokenize\n",
        "nltk.download('punkt')\n",
        "import pymorphy2\n",
        "import string\n",
        "\n",
        "morph = pymorphy2.MorphAnalyzer()\n",
        "\n",
        "def preprocessing(working_dir):\n",
        "  corpus = []\n",
        "\n",
        "  for root, dirs, files in os.walk(working_dir):\n",
        "    for name in files:\n",
        "      fpath = os.path.join(root, name)\n",
        "      with open(fpath, 'r') as f:  \n",
        "        text = word_tokenize(f.read())\n",
        "        text = [w.lower() for w in text]\n",
        "        table = str.maketrans('', '', string.punctuation)\n",
        "        text = [word for word in text if word.isalpha()]\n",
        "        text = [morph.parse(word)[0].normal_form for word in text]\n",
        "        corpus.append(' '.join(text))\n",
        "        \n",
        "  \n",
        "  return corpus\n",
        "        \n"
      ],
      "execution_count": 96,
      "outputs": [
        {
          "output_type": "stream",
          "text": [
            "[nltk_data] Downloading package punkt to /root/nltk_data...\n",
            "[nltk_data]   Package punkt is already up-to-date!\n"
          ],
          "name": "stdout"
        }
      ]
    },
    {
      "cell_type": "code",
      "metadata": {
        "id": "-8t0cmScJMA4",
        "colab_type": "code",
        "colab": {
          "base_uri": "https://localhost:8080/",
          "height": 102
        },
        "outputId": "424a7679-5b63-489e-8353-522bd9c17232"
      },
      "source": [
        "pip install pymorphy2[fast]"
      ],
      "execution_count": 90,
      "outputs": [
        {
          "output_type": "stream",
          "text": [
            "Requirement already satisfied: pymorphy2[fast] in /usr/local/lib/python3.6/dist-packages (0.8)\n",
            "Requirement already satisfied: dawg-python>=0.7 in /usr/local/lib/python3.6/dist-packages (from pymorphy2[fast]) (0.7.2)\n",
            "Requirement already satisfied: docopt>=0.6 in /usr/local/lib/python3.6/dist-packages (from pymorphy2[fast]) (0.6.2)\n",
            "Requirement already satisfied: pymorphy2-dicts<3.0,>=2.4 in /usr/local/lib/python3.6/dist-packages (from pymorphy2[fast]) (2.4.393442.3710985)\n",
            "Requirement already satisfied: DAWG>=0.7.3; extra == \"fast\" in /usr/local/lib/python3.6/dist-packages (from pymorphy2[fast]) (0.8.0)\n"
          ],
          "name": "stdout"
        }
      ]
    },
    {
      "cell_type": "code",
      "metadata": {
        "id": "3qrQV78-HwkB",
        "colab_type": "code",
        "colab": {}
      },
      "source": [
        "\n",
        "\n",
        "\n"
      ],
      "execution_count": null,
      "outputs": []
    },
    {
      "cell_type": "code",
      "metadata": {
        "id": "iBZthsPX1dmj",
        "colab_type": "code",
        "colab": {}
      },
      "source": [
        "corpus = preprocessing(working_dir)"
      ],
      "execution_count": 99,
      "outputs": []
    },
    {
      "cell_type": "code",
      "metadata": {
        "id": "0_H7SRn2OXw0",
        "colab_type": "code",
        "colab": {}
      },
      "source": [
        "from sklearn.feature_extraction.text import CountVectorizer\n",
        "import numpy as np\n",
        "\n",
        "vectorizer = CountVectorizer()"
      ],
      "execution_count": 107,
      "outputs": []
    },
    {
      "cell_type": "code",
      "metadata": {
        "id": "FdVfSVDmMzCl",
        "colab_type": "code",
        "colab": {}
      },
      "source": [
        "X = vectorizer.fit_transform(corpus)\n",
        "\n",
        "#vectorizer.get_feature_names()"
      ],
      "execution_count": 115,
      "outputs": []
    },
    {
      "cell_type": "code",
      "metadata": {
        "id": "_pqg64JNQ5Y2",
        "colab_type": "code",
        "colab": {
          "base_uri": "https://localhost:8080/",
          "height": 51
        },
        "outputId": "c8f08721-8dfd-4e1e-83ee-8049805b4c1a"
      },
      "source": [
        "matrix_freq = np.asarray(X.sum(axis=0)).ravel()\n",
        "final_matrix = np.array([np.array(vectorizer.get_feature_names()), matrix_freq])\n"
      ],
      "execution_count": 117,
      "outputs": [
        {
          "output_type": "stream",
          "text": [
            "[['after' 'again' 'ahh' ... 'ёрш' 'ёршик' 'ёще']\n",
            " ['1' '1' '1' ... '1' '1' '1']]\n"
          ],
          "name": "stdout"
        }
      ]
    },
    {
      "cell_type": "markdown",
      "metadata": {
        "id": "cHhLW2gER0WM",
        "colab_type": "text"
      },
      "source": [
        "Теперь нужно сделать поиск по матрице и ты великолепен"
      ]
    },
    {
      "cell_type": "code",
      "metadata": {
        "id": "5sp83H4oSknD",
        "colab_type": "code",
        "colab": {
          "base_uri": "https://localhost:8080/",
          "height": 34
        },
        "outputId": "99a52166-78a7-42a1-9e93-052e4116f93f"
      },
      "source": [
        "#vectorizer.get_feature_names()\n",
        "vectorizer.vocabulary_.get('купить')"
      ],
      "execution_count": 119,
      "outputs": [
        {
          "output_type": "execute_result",
          "data": {
            "text/plain": [
              "5017"
            ]
          },
          "metadata": {
            "tags": []
          },
          "execution_count": 119
        }
      ]
    }
  ]
}